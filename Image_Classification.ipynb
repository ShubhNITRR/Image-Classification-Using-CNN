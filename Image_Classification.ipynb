{
  "cells": [
    {
      "cell_type": "code",
      "execution_count": null,
      "metadata": {
        "id": "J7SXglyJLbiV"
      },
      "outputs": [],
      "source": [
        "import tensorflow as tf\n",
        "from tensorflow.keras import datasets, layers, models\n",
        "from sklearn.metrics import classification_report,confusion_matrix\n",
        "from tensorflow.keras.layers import Dense, BatchNormalization , PReLU\n",
        "import matplotlib.pyplot as plt\n",
        "import numpy as np\n",
        "import seaborn as sns"
      ]
    },
    {
      "cell_type": "code",
      "execution_count": null,
      "metadata": {
        "colab": {
          "base_uri": "https://localhost:8080/"
        },
        "id": "NZZKEiaULhRg",
        "outputId": "7fc82b15-ba9a-49c4-b703-91b4bddfa1b5"
      },
      "outputs": [
        {
          "output_type": "stream",
          "name": "stdout",
          "text": [
            "Downloading data from https://www.cs.toronto.edu/~kriz/cifar-10-python.tar.gz\n",
            "170498071/170498071 [==============================] - 7s 0us/step\n"
          ]
        },
        {
          "output_type": "execute_result",
          "data": {
            "text/plain": [
              "(50000, 32, 32, 3)"
            ]
          },
          "metadata": {},
          "execution_count": 2
        }
      ],
      "source": [
        " (x_train, y_train), (x_test,y_test) = datasets.cifar10.load_data()\n",
        "x_train.shape"
      ]
    },
    {
      "cell_type": "code",
      "execution_count": null,
      "metadata": {
        "colab": {
          "base_uri": "https://localhost:8080/"
        },
        "id": "_YSJklKRLkRw",
        "outputId": "29f6f0f7-9922-4c1f-97d8-9b077f83b476"
      },
      "outputs": [
        {
          "output_type": "execute_result",
          "data": {
            "text/plain": [
              "(10000, 32, 32, 3)"
            ]
          },
          "metadata": {},
          "execution_count": 3
        }
      ],
      "source": [
        "x_test.shape"
      ]
    },
    {
      "cell_type": "code",
      "execution_count": null,
      "metadata": {
        "colab": {
          "base_uri": "https://localhost:8080/"
        },
        "id": "pd6YNwosLnUd",
        "outputId": "c5707858-7b87-4ca6-995b-daac18c9fea6"
      },
      "outputs": [
        {
          "output_type": "execute_result",
          "data": {
            "text/plain": [
              "(50000, 1)"
            ]
          },
          "metadata": {},
          "execution_count": 4
        }
      ],
      "source": [
        "y_train.shape"
      ]
    },
    {
      "cell_type": "code",
      "execution_count": null,
      "metadata": {
        "colab": {
          "base_uri": "https://localhost:8080/"
        },
        "id": "S3bmYkWoLqL9",
        "outputId": "07c2e88f-9bb9-4282-cc2d-265a0ce30f12"
      },
      "outputs": [
        {
          "output_type": "execute_result",
          "data": {
            "text/plain": [
              "array([[6],\n",
              "       [9],\n",
              "       [9],\n",
              "       [4],\n",
              "       [1]], dtype=uint8)"
            ]
          },
          "metadata": {},
          "execution_count": 5
        }
      ],
      "source": [
        "y_train[:5]"
      ]
    },
    {
      "cell_type": "code",
      "execution_count": null,
      "metadata": {
        "colab": {
          "base_uri": "https://localhost:8080/"
        },
        "id": "27n0vrSXLtCh",
        "outputId": "6a11602c-5a4c-48c2-b03d-e30b29870202"
      },
      "outputs": [
        {
          "output_type": "execute_result",
          "data": {
            "text/plain": [
              "array([6, 9, 9, 4, 1], dtype=uint8)"
            ]
          },
          "metadata": {},
          "execution_count": 6
        }
      ],
      "source": [
        "y_train = y_train.reshape(-1,)\n",
        "y_train[:5]"
      ]
    },
    {
      "cell_type": "code",
      "execution_count": null,
      "metadata": {
        "colab": {
          "base_uri": "https://localhost:8080/",
          "height": 386
        },
        "id": "XKKssfg7LwTD",
        "outputId": "90803aa4-f0b8-46fc-a075-d61b91a32622"
      },
      "outputs": [
        {
          "output_type": "execute_result",
          "data": {
            "text/plain": [
              "<matplotlib.image.AxesImage at 0x7b0a0067c1c0>"
            ]
          },
          "metadata": {},
          "execution_count": 7
        },
        {
          "output_type": "display_data",
          "data": {
            "text/plain": [
              "<Figure size 400x400 with 1 Axes>"
            ],
            "image/png": "[encoded data removed]"
          },
          "metadata": {}
        }
      ],
      "source": [
        "plt.figure(figsize = (4,4))\n",
        "plt.imshow(x_train[87])"
      ]
    },
    {
      "cell_type": "code",
      "execution_count": null,
      "metadata": {
        "id": "Y4G0fl-RLywq"
      },
      "outputs": [],
      "source": [
        "x_train = x_train/255\n",
        "x_test = x_test/255"
      ]
    },
    {
      "cell_type": "code",
      "execution_count": null,
      "metadata": {
        "colab": {
          "base_uri": "https://localhost:8080/"
        },
        "id": "eo7r8FQ6L1b1",
        "outputId": "b214215e-7490-4d3d-afa4-36d88eb3696f"
      },
      "outputs": [
        {
          "output_type": "execute_result",
          "data": {
            "text/plain": [
              "array([[[0.23137255, 0.24313725, 0.24705882],\n",
              "        [0.16862745, 0.18039216, 0.17647059],\n",
              "        [0.19607843, 0.18823529, 0.16862745],\n",
              "        ...,\n",
              "        [0.61960784, 0.51764706, 0.42352941],\n",
              "        [0.59607843, 0.49019608, 0.4       ],\n",
              "        [0.58039216, 0.48627451, 0.40392157]],\n",
              "\n",
              "       [[0.0627451 , 0.07843137, 0.07843137],\n",
              "        [0.        , 0.        , 0.        ],\n",
              "        [0.07058824, 0.03137255, 0.        ],\n",
              "        ...,\n",
              "        [0.48235294, 0.34509804, 0.21568627],\n",
              "        [0.46666667, 0.3254902 , 0.19607843],\n",
              "        [0.47843137, 0.34117647, 0.22352941]],\n",
              "\n",
              "       [[0.09803922, 0.09411765, 0.08235294],\n",
              "        [0.0627451 , 0.02745098, 0.        ],\n",
              "        [0.19215686, 0.10588235, 0.03137255],\n",
              "        ...,\n",
              "        [0.4627451 , 0.32941176, 0.19607843],\n",
              "        [0.47058824, 0.32941176, 0.19607843],\n",
              "        [0.42745098, 0.28627451, 0.16470588]],\n",
              "\n",
              "       ...,\n",
              "\n",
              "       [[0.81568627, 0.66666667, 0.37647059],\n",
              "        [0.78823529, 0.6       , 0.13333333],\n",
              "        [0.77647059, 0.63137255, 0.10196078],\n",
              "        ...,\n",
              "        [0.62745098, 0.52156863, 0.2745098 ],\n",
              "        [0.21960784, 0.12156863, 0.02745098],\n",
              "        [0.20784314, 0.13333333, 0.07843137]],\n",
              "\n",
              "       [[0.70588235, 0.54509804, 0.37647059],\n",
              "        [0.67843137, 0.48235294, 0.16470588],\n",
              "        [0.72941176, 0.56470588, 0.11764706],\n",
              "        ...,\n",
              "        [0.72156863, 0.58039216, 0.36862745],\n",
              "        [0.38039216, 0.24313725, 0.13333333],\n",
              "        [0.3254902 , 0.20784314, 0.13333333]],\n",
              "\n",
              "       [[0.69411765, 0.56470588, 0.45490196],\n",
              "        [0.65882353, 0.50588235, 0.36862745],\n",
              "        [0.70196078, 0.55686275, 0.34117647],\n",
              "        ...,\n",
              "        [0.84705882, 0.72156863, 0.54901961],\n",
              "        [0.59215686, 0.4627451 , 0.32941176],\n",
              "        [0.48235294, 0.36078431, 0.28235294]]])"
            ]
          },
          "metadata": {},
          "execution_count": 9
        }
      ],
      "source": [
        "\n",
        "x_train[0]\n"
      ]
    },
    {
      "cell_type": "code",
      "execution_count": null,
      "metadata": {
        "id": "w9uPqd2oL8LM"
      },
      "outputs": [],
      "source": [
        "#Model Building"
      ]
    },
    {
      "cell_type": "code",
      "execution_count": null,
      "metadata": {
        "id": "GGCuG1C0MBZN"
      },
      "outputs": [],
      "source": [
        "cnn = models.Sequential([\n",
        "    layers.Conv2D(54, kernel_size=(3,3),groups=3,input_shape=(32,32,3),padding='same',activation='relu'),\n",
        "    layers.BatchNormalization(),\n",
        "    tf.keras.layers.PReLU(alpha_initializer='zeros',alpha_regularizer=None,alpha_constraint=None,shared_axes=None),\n",
        "    layers.MaxPooling2D((2, 2)),\n",
        "\n",
        "    #Residual Block\n",
        "     layers.Conv2D(108, kernel_size=(1,1),groups=3,input_shape=(32,32,3),padding='same',activation='relu'),\n",
        "\n",
        "\n",
        "    layers.Flatten(),\n",
        "\n",
        "    # Fully Connected Layers\n",
        "    layers.Dense(128, activation='relu'),\n",
        "    layers.Dropout(0.5),  # Add dropout for regularization\n",
        "    layers.Dense(64, activation='relu'),\n",
        "\n",
        "    # Output Layer\n",
        "    layers.Dense(10, activation='softmax')\n",
        "])"
      ]
    },
    {
      "cell_type": "code",
      "execution_count": null,
      "metadata": {
        "colab": {
          "base_uri": "https://localhost:8080/"
        },
        "id": "aj8AqtDLM0s8",
        "outputId": "9f746f1f-bae2-4db7-9fd2-0da455acb887"
      },
      "outputs": [
        {
          "output_type": "stream",
          "name": "stdout",
          "text": [
            "Model: \"sequential\"\n",
            "_________________________________________________________________\n",
            " Layer (type)                Output Shape              Param #   \n",
            "=================================================================\n",
            " conv2d (Conv2D)             (None, 32, 32, 54)        540       \n",
            "                                                                 \n",
            " batch_normalization (BatchN  (None, 32, 32, 54)       216       \n",
            " ormalization)                                                   \n",
            "                                                                 \n",
            " p_re_lu (PReLU)             (None, 32, 32, 54)        55296     \n",
            "                                                                 \n",
            " max_pooling2d (MaxPooling2D  (None, 16, 16, 54)       0         \n",
            " )                                                               \n",
            "                                                                 \n",
            " conv2d_1 (Conv2D)           (None, 16, 16, 108)       2052      \n",
            "                                                                 \n",
            " flatten (Flatten)           (None, 27648)             0         \n",
            "                                                                 \n",
            " dense (Dense)               (None, 128)               3539072   \n",
            "                                                                 \n",
            " dropout (Dropout)           (None, 128)               0         \n",
            "                                                                 \n",
            " dense_1 (Dense)             (None, 64)                8256      \n",
            "                                                                 \n",
            " dense_2 (Dense)             (None, 10)                650       \n",
            "                                                                 \n",
            "=================================================================\n",
            "Total params: 3,606,082\n",
            "Trainable params: 3,605,974\n",
            "Non-trainable params: 108\n",
            "_________________________________________________________________\n"
          ]
        }
      ],
      "source": [
        "cnn.summary()"
      ]
    },
    {
      "cell_type": "code",
      "execution_count": null,
      "metadata": {
        "id": "Bgu6u5KoM53G"
      },
      "outputs": [],
      "source": [
        "cnn.compile(optimizer='adam', loss='sparse_categorical_crossentropy', metrics=['accuracy'])"
      ]
    },
    {
      "cell_type": "code",
      "execution_count": null,
      "metadata": {
        "colab": {
          "base_uri": "https://localhost:8080/"
        },
        "id": "SdbOz38lOXll",
        "outputId": "c5bf55e9-f5a6-48bb-ab04-e00a3b13e7ad"
      },
      "outputs": [
        {
          "output_type": "stream",
          "name": "stdout",
          "text": [
            "Epoch 1/100\n",
            "1563/1563 [==============================] - 28s 9ms/step - loss: 1.6913 - accuracy: 0.3742\n",
            "Epoch 2/100\n",
            "1563/1563 [==============================] - 13s 9ms/step - loss: 1.3829 - accuracy: 0.4996\n",
            "Epoch 3/100\n",
            "1563/1563 [==============================] - 13s 8ms/step - loss: 1.2421 - accuracy: 0.5511\n",
            "Epoch 4/100\n",
            "1563/1563 [==============================] - 13s 8ms/step - loss: 1.1321 - accuracy: 0.5946\n",
            "Epoch 5/100\n",
            "1563/1563 [==============================] - 13s 8ms/step - loss: 1.0428 - accuracy: 0.6234\n",
            "Epoch 6/100\n",
            "1563/1563 [==============================] - 13s 8ms/step - loss: 0.9686 - accuracy: 0.6525\n",
            "Epoch 7/100\n",
            "1563/1563 [==============================] - 13s 8ms/step - loss: 0.9016 - accuracy: 0.6764\n",
            "Epoch 8/100\n",
            "1563/1563 [==============================] - 13s 8ms/step - loss: 0.8419 - accuracy: 0.6963\n",
            "Epoch 9/100\n",
            "1563/1563 [==============================] - 13s 8ms/step - loss: 0.7908 - accuracy: 0.7160\n",
            "Epoch 10/100\n",
            "1563/1563 [==============================] - 13s 8ms/step - loss: 0.7496 - accuracy: 0.7299\n",
            "Epoch 11/100\n",
            "1563/1563 [==============================] - 13s 9ms/step - loss: 0.7042 - accuracy: 0.7457\n",
            "Epoch 12/100\n",
            "1563/1563 [==============================] - 18s 12ms/step - loss: 0.6730 - accuracy: 0.7582\n",
            "Epoch 13/100\n",
            "1563/1563 [==============================] - 13s 8ms/step - loss: 0.6343 - accuracy: 0.7681\n",
            "Epoch 14/100\n",
            "1563/1563 [==============================] - 13s 8ms/step - loss: 0.6028 - accuracy: 0.7822\n",
            "Epoch 15/100\n",
            "1563/1563 [==============================] - 13s 8ms/step - loss: 0.5789 - accuracy: 0.7920\n",
            "Epoch 16/100\n",
            "1563/1563 [==============================] - 14s 9ms/step - loss: 0.5551 - accuracy: 0.7985\n",
            "Epoch 17/100\n",
            "1563/1563 [==============================] - 14s 9ms/step - loss: 0.5369 - accuracy: 0.8061\n",
            "Epoch 18/100\n",
            "1563/1563 [==============================] - 13s 8ms/step - loss: 0.5116 - accuracy: 0.8137\n",
            "Epoch 19/100\n",
            "1563/1563 [==============================] - 13s 8ms/step - loss: 0.5000 - accuracy: 0.8199\n",
            "Epoch 20/100\n",
            "1563/1563 [==============================] - 13s 8ms/step - loss: 0.4785 - accuracy: 0.8288\n",
            "Epoch 21/100\n",
            "1563/1563 [==============================] - 13s 8ms/step - loss: 0.4688 - accuracy: 0.8286\n",
            "Epoch 22/100\n",
            "1563/1563 [==============================] - 13s 8ms/step - loss: 0.4470 - accuracy: 0.8382\n",
            "Epoch 23/100\n",
            "1563/1563 [==============================] - 13s 8ms/step - loss: 0.4387 - accuracy: 0.8413\n",
            "Epoch 24/100\n",
            "1563/1563 [==============================] - 13s 8ms/step - loss: 0.4286 - accuracy: 0.8452\n",
            "Epoch 25/100\n",
            "1563/1563 [==============================] - 13s 8ms/step - loss: 0.4167 - accuracy: 0.8497\n",
            "Epoch 26/100\n",
            "1563/1563 [==============================] - 13s 8ms/step - loss: 0.4092 - accuracy: 0.8515\n",
            "Epoch 27/100\n",
            "1563/1563 [==============================] - 13s 8ms/step - loss: 0.4001 - accuracy: 0.8548\n",
            "Epoch 28/100\n",
            "1563/1563 [==============================] - 13s 8ms/step - loss: 0.3855 - accuracy: 0.8606\n",
            "Epoch 29/100\n",
            "1563/1563 [==============================] - 13s 8ms/step - loss: 0.3798 - accuracy: 0.8628\n",
            "Epoch 30/100\n",
            "1563/1563 [==============================] - 13s 8ms/step - loss: 0.3701 - accuracy: 0.8669\n",
            "Epoch 31/100\n",
            "1563/1563 [==============================] - 13s 8ms/step - loss: 0.3630 - accuracy: 0.8694\n",
            "Epoch 32/100\n",
            "1563/1563 [==============================] - 13s 8ms/step - loss: 0.3582 - accuracy: 0.8725\n",
            "Epoch 33/100\n",
            "1563/1563 [==============================] - 13s 8ms/step - loss: 0.3492 - accuracy: 0.8737\n",
            "Epoch 34/100\n",
            "1563/1563 [==============================] - 13s 8ms/step - loss: 0.3467 - accuracy: 0.8752\n",
            "Epoch 35/100\n",
            "1563/1563 [==============================] - 13s 8ms/step - loss: 0.3390 - accuracy: 0.8789\n",
            "Epoch 36/100\n",
            "1563/1563 [==============================] - 13s 8ms/step - loss: 0.3346 - accuracy: 0.8806\n",
            "Epoch 37/100\n",
            "1563/1563 [==============================] - 13s 8ms/step - loss: 0.3210 - accuracy: 0.8856\n",
            "Epoch 38/100\n",
            "1563/1563 [==============================] - 13s 8ms/step - loss: 0.3219 - accuracy: 0.8844\n",
            "Epoch 39/100\n",
            "1563/1563 [==============================] - 13s 8ms/step - loss: 0.3142 - accuracy: 0.8888\n",
            "Epoch 40/100\n",
            "1563/1563 [==============================] - 13s 8ms/step - loss: 0.3087 - accuracy: 0.8908\n",
            "Epoch 41/100\n",
            "1563/1563 [==============================] - 13s 8ms/step - loss: 0.3021 - accuracy: 0.8928\n",
            "Epoch 42/100\n",
            "1563/1563 [==============================] - 13s 8ms/step - loss: 0.2973 - accuracy: 0.8936\n",
            "Epoch 43/100\n",
            "1563/1563 [==============================] - 13s 8ms/step - loss: 0.2961 - accuracy: 0.8951\n",
            "Epoch 44/100\n",
            "1563/1563 [==============================] - 13s 8ms/step - loss: 0.2867 - accuracy: 0.8988\n",
            "Epoch 45/100\n",
            "1563/1563 [==============================] - 13s 8ms/step - loss: 0.2877 - accuracy: 0.8977\n",
            "Epoch 46/100\n",
            "1563/1563 [==============================] - 13s 8ms/step - loss: 0.2815 - accuracy: 0.8998\n",
            "Epoch 47/100\n",
            "1563/1563 [==============================] - 13s 8ms/step - loss: 0.2806 - accuracy: 0.8988\n",
            "Epoch 48/100\n",
            "1563/1563 [==============================] - 13s 8ms/step - loss: 0.2785 - accuracy: 0.9012\n",
            "Epoch 49/100\n",
            "1563/1563 [==============================] - 13s 8ms/step - loss: 0.2771 - accuracy: 0.9017\n",
            "Epoch 50/100\n",
            "1563/1563 [==============================] - 13s 8ms/step - loss: 0.2670 - accuracy: 0.9055\n",
            "Epoch 51/100\n",
            "1563/1563 [==============================] - 13s 8ms/step - loss: 0.2668 - accuracy: 0.9054\n",
            "Epoch 52/100\n",
            "1563/1563 [==============================] - 13s 8ms/step - loss: 0.2588 - accuracy: 0.9090\n",
            "Epoch 53/100\n",
            "1563/1563 [==============================] - 13s 8ms/step - loss: 0.2550 - accuracy: 0.9097\n",
            "Epoch 54/100\n",
            "1563/1563 [==============================] - 13s 8ms/step - loss: 0.2563 - accuracy: 0.9096\n",
            "Epoch 55/100\n",
            "1563/1563 [==============================] - 13s 8ms/step - loss: 0.2555 - accuracy: 0.9105\n",
            "Epoch 56/100\n",
            "1563/1563 [==============================] - 13s 8ms/step - loss: 0.2492 - accuracy: 0.9112\n",
            "Epoch 57/100\n",
            "1563/1563 [==============================] - 13s 8ms/step - loss: 0.2411 - accuracy: 0.9145\n",
            "Epoch 58/100\n",
            "1563/1563 [==============================] - 13s 8ms/step - loss: 0.2490 - accuracy: 0.9130\n",
            "Epoch 59/100\n",
            "1563/1563 [==============================] - 13s 8ms/step - loss: 0.2438 - accuracy: 0.9137\n",
            "Epoch 60/100\n",
            "1563/1563 [==============================] - 13s 8ms/step - loss: 0.2447 - accuracy: 0.9138\n",
            "Epoch 61/100\n",
            "1563/1563 [==============================] - 13s 8ms/step - loss: 0.2351 - accuracy: 0.9193\n",
            "Epoch 62/100\n",
            "1563/1563 [==============================] - 13s 8ms/step - loss: 0.2385 - accuracy: 0.9154\n",
            "Epoch 63/100\n",
            "1563/1563 [==============================] - 13s 8ms/step - loss: 0.2330 - accuracy: 0.9177\n",
            "Epoch 64/100\n",
            "1563/1563 [==============================] - 13s 8ms/step - loss: 0.2330 - accuracy: 0.9184\n",
            "Epoch 65/100\n",
            "1563/1563 [==============================] - 13s 8ms/step - loss: 0.2352 - accuracy: 0.9173\n",
            "Epoch 66/100\n",
            "1563/1563 [==============================] - 13s 9ms/step - loss: 0.2211 - accuracy: 0.9231\n",
            "Epoch 67/100\n",
            "1563/1563 [==============================] - 13s 8ms/step - loss: 0.2218 - accuracy: 0.9222\n",
            "Epoch 68/100\n",
            "1563/1563 [==============================] - 13s 8ms/step - loss: 0.2199 - accuracy: 0.9226\n",
            "Epoch 69/100\n",
            "1563/1563 [==============================] - 13s 8ms/step - loss: 0.2179 - accuracy: 0.9250\n",
            "Epoch 70/100\n",
            "1563/1563 [==============================] - 13s 8ms/step - loss: 0.2174 - accuracy: 0.9250\n",
            "Epoch 71/100\n",
            "1563/1563 [==============================] - 13s 8ms/step - loss: 0.2123 - accuracy: 0.9263\n",
            "Epoch 72/100\n",
            "1563/1563 [==============================] - 13s 8ms/step - loss: 0.2130 - accuracy: 0.9259\n",
            "Epoch 73/100\n",
            "1563/1563 [==============================] - 13s 8ms/step - loss: 0.2112 - accuracy: 0.9260\n",
            "Epoch 74/100\n",
            "1563/1563 [==============================] - 13s 8ms/step - loss: 0.2109 - accuracy: 0.9265\n",
            "Epoch 75/100\n",
            "1563/1563 [==============================] - 13s 8ms/step - loss: 0.2123 - accuracy: 0.9259\n",
            "Epoch 76/100\n",
            "1563/1563 [==============================] - 13s 8ms/step - loss: 0.2058 - accuracy: 0.9280\n",
            "Epoch 77/100\n",
            "1563/1563 [==============================] - 13s 8ms/step - loss: 0.1982 - accuracy: 0.9305\n",
            "Epoch 78/100\n",
            "1563/1563 [==============================] - 13s 8ms/step - loss: 0.2036 - accuracy: 0.9294\n",
            "Epoch 79/100\n",
            "1563/1563 [==============================] - 13s 8ms/step - loss: 0.2010 - accuracy: 0.9302\n",
            "Epoch 80/100\n",
            "1563/1563 [==============================] - 13s 8ms/step - loss: 0.2023 - accuracy: 0.9284\n",
            "Epoch 81/100\n",
            "1563/1563 [==============================] - 13s 8ms/step - loss: 0.1977 - accuracy: 0.9307\n",
            "Epoch 82/100\n",
            "1563/1563 [==============================] - 13s 8ms/step - loss: 0.1970 - accuracy: 0.9317\n",
            "Epoch 83/100\n",
            "1563/1563 [==============================] - 13s 8ms/step - loss: 0.1969 - accuracy: 0.9318\n",
            "Epoch 84/100\n",
            "1563/1563 [==============================] - 13s 8ms/step - loss: 0.1971 - accuracy: 0.9311\n",
            "Epoch 85/100\n",
            "1563/1563 [==============================] - 13s 8ms/step - loss: 0.1927 - accuracy: 0.9336\n",
            "Epoch 86/100\n",
            "1563/1563 [==============================] - 13s 8ms/step - loss: 0.1915 - accuracy: 0.9344\n",
            "Epoch 87/100\n",
            "1563/1563 [==============================] - 13s 8ms/step - loss: 0.1875 - accuracy: 0.9352\n",
            "Epoch 88/100\n",
            "1563/1563 [==============================] - 13s 8ms/step - loss: 0.1914 - accuracy: 0.9351\n",
            "Epoch 89/100\n",
            "1563/1563 [==============================] - 13s 8ms/step - loss: 0.1911 - accuracy: 0.9333\n",
            "Epoch 90/100\n",
            "1563/1563 [==============================] - 13s 8ms/step - loss: 0.1839 - accuracy: 0.9354\n",
            "Epoch 91/100\n",
            "1563/1563 [==============================] - 13s 8ms/step - loss: 0.1824 - accuracy: 0.9366\n",
            "Epoch 92/100\n",
            "1563/1563 [==============================] - 13s 8ms/step - loss: 0.1778 - accuracy: 0.9373\n",
            "Epoch 93/100\n",
            "1563/1563 [==============================] - 13s 9ms/step - loss: 0.1835 - accuracy: 0.9355\n",
            "Epoch 94/100\n",
            "1563/1563 [==============================] - 13s 8ms/step - loss: 0.1830 - accuracy: 0.9352\n",
            "Epoch 95/100\n",
            "1563/1563 [==============================] - 13s 8ms/step - loss: 0.1845 - accuracy: 0.9362\n",
            "Epoch 96/100\n",
            "1563/1563 [==============================] - 13s 8ms/step - loss: 0.1807 - accuracy: 0.9369\n",
            "Epoch 97/100\n",
            "1563/1563 [==============================] - 13s 8ms/step - loss: 0.1781 - accuracy: 0.9384\n",
            "Epoch 98/100\n",
            "1563/1563 [==============================] - 13s 8ms/step - loss: 0.1805 - accuracy: 0.9375\n",
            "Epoch 99/100\n",
            "1563/1563 [==============================] - 13s 8ms/step - loss: 0.1805 - accuracy: 0.9385\n",
            "Epoch 100/100\n",
            "1563/1563 [==============================] - 13s 8ms/step - loss: 0.1782 - accuracy: 0.9373\n"
          ]
        },
        {
          "output_type": "execute_result",
          "data": {
            "text/plain": [
              "<keras.callbacks.History at 0x7b0a09187ca0>"
            ]
          },
          "metadata": {},
          "execution_count": 14
        }
      ],
      "source": [
        "cnn.fit(x_train, y_train, epochs=100)"
      ]
    },
    {
      "cell_type": "code",
      "execution_count": null,
      "metadata": {
        "colab": {
          "base_uri": "https://localhost:8080/"
        },
        "id": "RclBm2mNOhLP",
        "outputId": "2c1ee966-ab09-4105-99c8-4a568748c238"
      },
      "outputs": [
        {
          "output_type": "stream",
          "name": "stdout",
          "text": [
            "313/313 [==============================] - 1s 3ms/step\n"
          ]
        },
        {
          "output_type": "execute_result",
          "data": {
            "text/plain": [
              "array([[8.49652849e-03, 1.70176767e-03, 7.47186306e-04, 4.31046402e-03,\n",
              "        5.49185148e-04, 7.97245775e-06, 8.03700241e-04, 3.52113034e-07,\n",
              "        9.80111659e-01, 3.27126123e-03],\n",
              "       [3.51989118e-04, 1.36322703e-03, 2.30174933e-17, 1.12801607e-13,\n",
              "        4.69487504e-11, 8.90811158e-20, 1.12153982e-12, 4.05163900e-18,\n",
              "        9.98283744e-01, 1.10801932e-06],\n",
              "       [8.53445455e-02, 4.23200475e-03, 5.12735678e-05, 5.42101159e-04,\n",
              "        3.65597452e-03, 1.06825028e-05, 1.89877566e-04, 1.02678125e-04,\n",
              "        8.62681270e-01, 4.31896299e-02],\n",
              "       [9.81068075e-01, 1.46486145e-03, 2.06008437e-03, 4.99994530e-05,\n",
              "        1.86836885e-04, 1.24193411e-06, 8.40395558e-07, 9.26578741e-06,\n",
              "        1.51348943e-02, 2.38616522e-05],\n",
              "       [7.48912221e-09, 1.30708997e-07, 2.16953431e-05, 5.17121464e-07,\n",
              "        1.49120358e-04, 2.13892258e-06, 9.99826372e-01, 2.04701482e-08,\n",
              "        5.91339067e-08, 3.33972794e-10]], dtype=float32)"
            ]
          },
          "metadata": {},
          "execution_count": 15
        }
      ],
      "source": [
        "y_pred = cnn.predict(x_test)\n",
        "y_pred[:5]"
      ]
    },
    {
      "cell_type": "code",
      "execution_count": null,
      "metadata": {
        "colab": {
          "base_uri": "https://localhost:8080/"
        },
        "id": "cTiabr_X8g6q",
        "outputId": "eb91bf07-3325-4081-d08d-478841fa061c"
      },
      "outputs": [
        {
          "output_type": "execute_result",
          "data": {
            "text/plain": [
              "[8, 8, 8, 0, 6, 6, 1, 4, 3, 8]"
            ]
          },
          "metadata": {},
          "execution_count": 16
        }
      ],
      "source": [
        "y_classes = [np.argmax(element) for element in y_pred]\n",
        "y_classes[:10]"
      ]
    },
    {
      "cell_type": "code",
      "execution_count": null,
      "metadata": {
        "colab": {
          "base_uri": "https://localhost:8080/"
        },
        "id": "dJQL7BjO8mTH",
        "outputId": "26f08c9f-c017-44cd-8ed8-cf4eaad48d37"
      },
      "outputs": [
        {
          "output_type": "execute_result",
          "data": {
            "text/plain": [
              "array([[3],\n",
              "       [8],\n",
              "       [8],\n",
              "       [0],\n",
              "       [6],\n",
              "       [6],\n",
              "       [1],\n",
              "       [6],\n",
              "       [3],\n",
              "       [1]], dtype=uint8)"
            ]
          },
          "metadata": {},
          "execution_count": 17
        }
      ],
      "source": [
        "y_test[:10]"
      ]
    },
    {
      "cell_type": "code",
      "execution_count": null,
      "metadata": {
        "colab": {
          "base_uri": "https://localhost:8080/"
        },
        "id": "AcFxD2u_8sYF",
        "outputId": "89fdebba-28e5-41b7-cbe7-7fd2e8ed147f"
      },
      "outputs": [
        {
          "output_type": "stream",
          "name": "stdout",
          "text": [
            "              precision    recall  f1-score   support\n",
            "\n",
            "           0       0.60      0.68      0.64      1000\n",
            "           1       0.84      0.64      0.72      1000\n",
            "           2       0.48      0.52      0.50      1000\n",
            "           3       0.42      0.39      0.40      1000\n",
            "           4       0.42      0.72      0.53      1000\n",
            "           5       0.69      0.34      0.45      1000\n",
            "           6       0.57      0.80      0.67      1000\n",
            "           7       0.80      0.50      0.61      1000\n",
            "           8       0.66      0.77      0.71      1000\n",
            "           9       0.81      0.60      0.69      1000\n",
            "\n",
            "    accuracy                           0.59     10000\n",
            "   macro avg       0.63      0.59      0.59     10000\n",
            "weighted avg       0.63      0.59      0.59     10000\n",
            "\n"
          ]
        }
      ],
      "source": [
        "print(classification_report(y_test, y_classes))"
      ]
    },
    {
      "cell_type": "code",
      "execution_count": null,
      "metadata": {
        "colab": {
          "base_uri": "https://localhost:8080/",
          "height": 591
        },
        "id": "gWWGfwxh8wI9",
        "outputId": "1947918a-30a7-46d6-ac65-fa5588ef5c52"
      },
      "outputs": [
        {
          "data": {
            "image/png": "[encoded data removed]",
            "text/plain": [
              "<Figure size 1000x800 with 2 Axes>"
            ]
          },
          "metadata": {},
          "output_type": "display_data"
        }
      ],
      "source": [
        "# print out the confusion matrix\n",
        "cm = confusion_matrix(y_test, y_classes)\n",
        "plt.figure(figsize = (10,8))\n",
        "sns.heatmap(cm, annot=True, fmt=\".0f\");"
      ]
    },
    {
      "cell_type": "code",
      "execution_count": null,
      "metadata": {
        "id": "ad4cBISN80Zq"
      },
      "outputs": [],
      "source": [
        "classes =[\"Aeroplane\",\"Automobile\",\"Bird\",\"XYZ\",\"Deer\",\"Dog\",\" 123\",\"Horse\",\"Ship\",\"Truck\"]"
      ]
    },
    {
      "cell_type": "code",
      "execution_count": null,
      "metadata": {
        "colab": {
          "base_uri": "https://localhost:8080/",
          "height": 245
        },
        "id": "sNX4H17A84Fv",
        "outputId": "ee7512d1-e194-446b-de2e-810ee38810a8"
      },
      "outputs": [
        {
          "output_type": "error",
          "ename": "TypeError",
          "evalue": "ignored",
          "traceback": [
            "\u001b[0;31m---------------------------------------------------------------------------\u001b[0m",
            "\u001b[0;31mTypeError\u001b[0m                                 Traceback (most recent call last)",
            "\u001b[0;32m<ipython-input-19-c0cc9dea9fe1>\u001b[0m in \u001b[0;36m<cell line: 4>\u001b[0;34m()\u001b[0m\n\u001b[1;32m      2\u001b[0m \u001b[0;34m\u001b[0m\u001b[0m\n\u001b[1;32m      3\u001b[0m \u001b[0ma\u001b[0m\u001b[0;34m=\u001b[0m\u001b[0mcv2\u001b[0m\u001b[0;34m.\u001b[0m\u001b[0mimread\u001b[0m\u001b[0;34m(\u001b[0m\u001b[0;34m'20.jpg'\u001b[0m\u001b[0;34m)\u001b[0m\u001b[0;34m\u001b[0m\u001b[0;34m\u001b[0m\u001b[0m\n\u001b[0;32m----> 4\u001b[0;31m \u001b[0ma\u001b[0m\u001b[0;34m=\u001b[0m\u001b[0ma\u001b[0m\u001b[0;34m/\u001b[0m\u001b[0;36m255\u001b[0m\u001b[0;34m\u001b[0m\u001b[0;34m\u001b[0m\u001b[0m\n\u001b[0m\u001b[1;32m      5\u001b[0m \u001b[0ma\u001b[0m\u001b[0;34m=\u001b[0m\u001b[0mcv2\u001b[0m\u001b[0;34m.\u001b[0m\u001b[0mresize\u001b[0m\u001b[0;34m(\u001b[0m\u001b[0ma\u001b[0m\u001b[0;34m,\u001b[0m\u001b[0;34m(\u001b[0m\u001b[0;36m32\u001b[0m\u001b[0;34m,\u001b[0m\u001b[0;36m32\u001b[0m\u001b[0;34m)\u001b[0m\u001b[0;34m)\u001b[0m\u001b[0;34m\u001b[0m\u001b[0;34m\u001b[0m\u001b[0m\n\u001b[1;32m      6\u001b[0m \u001b[0ma\u001b[0m\u001b[0;34m=\u001b[0m\u001b[0ma\u001b[0m\u001b[0;34m.\u001b[0m\u001b[0mreshape\u001b[0m\u001b[0;34m(\u001b[0m\u001b[0;36m1\u001b[0m\u001b[0;34m,\u001b[0m\u001b[0;36m32\u001b[0m\u001b[0;34m,\u001b[0m\u001b[0;36m32\u001b[0m\u001b[0;34m,\u001b[0m\u001b[0;36m3\u001b[0m\u001b[0;34m)\u001b[0m\u001b[0;34m\u001b[0m\u001b[0;34m\u001b[0m\u001b[0m\n",
            "\u001b[0;31mTypeError\u001b[0m: unsupported operand type(s) for /: 'NoneType' and 'int'"
          ]
        }
      ],
      "source": [
        "# import cv2\n",
        "\n",
        "# a=cv2.imread('20.jpg')\n",
        "# a=a/255\n",
        "# a=cv2.resize(a,(32,32))\n",
        "# a=a.reshape(1,32,32,3)\n",
        "# z_pred=cnn.predict(a)\n",
        "# z_act=np.argmax(z_pred)\n",
        "# print(classes[z_act])"
      ]
    },
    {
      "cell_type": "code",
      "execution_count": null,
      "metadata": {
        "id": "c55BxT3D87SW"
      },
      "outputs": [],
      "source": [
        "# Bird,Automobile"
      ]
    }
  ],
  "metadata": {
    "accelerator": "GPU",
    "colab": {
      "provenance": []
    },
    "kernelspec": {
      "display_name": "Python 3",
      "name": "python3"
    },
    "language_info": {
      "name": "python"
    }
  },
  "nbformat": 4,
  "nbformat_minor": 0
}